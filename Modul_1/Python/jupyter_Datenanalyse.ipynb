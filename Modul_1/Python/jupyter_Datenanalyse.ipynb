{
 "cells": [
  {
   "cell_type": "markdown",
   "metadata": {},
   "source": [
    "## Notebook vorbereiten"
   ]
  },
  {
   "cell_type": "code",
   "execution_count": 1,
   "metadata": {},
   "outputs": [],
   "source": [
    "import urllib.request\n",
    "import pandas as pd"
   ]
  },
  {
   "cell_type": "markdown",
   "metadata": {},
   "source": [
    "## Daten beziehen und speichern"
   ]
  },
  {
   "cell_type": "code",
   "execution_count": 2,
   "metadata": {},
   "outputs": [
    {
     "data": {
      "text/plain": [
       "('checkout.csv', <http.client.HTTPMessage at 0x7f1d440fd040>)"
      ]
     },
     "execution_count": 2,
     "metadata": {},
     "output_type": "execute_result"
    }
   ],
   "source": [
    "url = \"https://data.seattle.gov/resource/tmmm-ytt6.csv?$where=checkoutyear=2018&$limit=10000\"\n",
    "checkout_file = \"checkout.csv\"\n",
    "urllib.request.urlretrieve(url, checkout_file)"
   ]
  },
  {
   "cell_type": "markdown",
   "metadata": {},
   "source": [
    "## In einen Dataframe laden"
   ]
  },
  {
   "cell_type": "code",
   "execution_count": 3,
   "metadata": {},
   "outputs": [],
   "source": [
    "checkouts_df = pd.read_csv(checkout_file)"
   ]
  },
  {
   "cell_type": "code",
   "execution_count": 4,
   "metadata": {
    "scrolled": true
   },
   "outputs": [
    {
     "data": {
      "text/html": [
       "<div>\n",
       "<style scoped>\n",
       "    .dataframe tbody tr th:only-of-type {\n",
       "        vertical-align: middle;\n",
       "    }\n",
       "\n",
       "    .dataframe tbody tr th {\n",
       "        vertical-align: top;\n",
       "    }\n",
       "\n",
       "    .dataframe thead th {\n",
       "        text-align: right;\n",
       "    }\n",
       "</style>\n",
       "<table border=\"1\" class=\"dataframe\">\n",
       "  <thead>\n",
       "    <tr style=\"text-align: right;\">\n",
       "      <th></th>\n",
       "      <th>usageclass</th>\n",
       "      <th>checkouttype</th>\n",
       "      <th>materialtype</th>\n",
       "      <th>checkoutyear</th>\n",
       "      <th>checkoutmonth</th>\n",
       "      <th>checkouts</th>\n",
       "      <th>title</th>\n",
       "      <th>creator</th>\n",
       "      <th>subjects</th>\n",
       "      <th>publisher</th>\n",
       "      <th>publicationyear</th>\n",
       "    </tr>\n",
       "  </thead>\n",
       "  <tbody>\n",
       "    <tr>\n",
       "      <th>0</th>\n",
       "      <td>Digital</td>\n",
       "      <td>OverDrive</td>\n",
       "      <td>EBOOK</td>\n",
       "      <td>2018</td>\n",
       "      <td>1</td>\n",
       "      <td>22</td>\n",
       "      <td>Enemy of the State</td>\n",
       "      <td>Vince Flynn</td>\n",
       "      <td>Fiction, Literature, Thriller</td>\n",
       "      <td>Simon &amp; Schuster, Inc.</td>\n",
       "      <td>2017</td>\n",
       "    </tr>\n",
       "    <tr>\n",
       "      <th>1</th>\n",
       "      <td>Digital</td>\n",
       "      <td>Hoopla</td>\n",
       "      <td>TELEVISION</td>\n",
       "      <td>2018</td>\n",
       "      <td>1</td>\n",
       "      <td>1</td>\n",
       "      <td>Newspaper Mom / Cucumber in Rio / Donut Raffle</td>\n",
       "      <td>NaN</td>\n",
       "      <td>Children's</td>\n",
       "      <td>DHX Media</td>\n",
       "      <td>NaN</td>\n",
       "    </tr>\n",
       "    <tr>\n",
       "      <th>2</th>\n",
       "      <td>Physical</td>\n",
       "      <td>Horizon</td>\n",
       "      <td>SOUNDDISC</td>\n",
       "      <td>2018</td>\n",
       "      <td>1</td>\n",
       "      <td>1</td>\n",
       "      <td>Mono / the Mavericks.</td>\n",
       "      <td>Mavericks (Musical group)</td>\n",
       "      <td>Country music 2011 2020</td>\n",
       "      <td>Valory,</td>\n",
       "      <td>[2015]</td>\n",
       "    </tr>\n",
       "    <tr>\n",
       "      <th>3</th>\n",
       "      <td>Digital</td>\n",
       "      <td>OverDrive</td>\n",
       "      <td>EBOOK</td>\n",
       "      <td>2018</td>\n",
       "      <td>1</td>\n",
       "      <td>2</td>\n",
       "      <td>Anna Karenina</td>\n",
       "      <td>Leo Tolstoy</td>\n",
       "      <td>Classic Literature, Fiction, Literature</td>\n",
       "      <td>Penguin Group (USA), Inc.</td>\n",
       "      <td>2009</td>\n",
       "    </tr>\n",
       "    <tr>\n",
       "      <th>4</th>\n",
       "      <td>Digital</td>\n",
       "      <td>OverDrive</td>\n",
       "      <td>EBOOK</td>\n",
       "      <td>2018</td>\n",
       "      <td>1</td>\n",
       "      <td>1</td>\n",
       "      <td>Dragon: Vlad Series, Book 8</td>\n",
       "      <td>Steven Brust</td>\n",
       "      <td>Fantasy, Fiction</td>\n",
       "      <td>Macmillan Publishers</td>\n",
       "      <td>2015</td>\n",
       "    </tr>\n",
       "    <tr>\n",
       "      <th>...</th>\n",
       "      <td>...</td>\n",
       "      <td>...</td>\n",
       "      <td>...</td>\n",
       "      <td>...</td>\n",
       "      <td>...</td>\n",
       "      <td>...</td>\n",
       "      <td>...</td>\n",
       "      <td>...</td>\n",
       "      <td>...</td>\n",
       "      <td>...</td>\n",
       "      <td>...</td>\n",
       "    </tr>\n",
       "    <tr>\n",
       "      <th>9995</th>\n",
       "      <td>Digital</td>\n",
       "      <td>OverDrive</td>\n",
       "      <td>AUDIOBOOK</td>\n",
       "      <td>2018</td>\n",
       "      <td>1</td>\n",
       "      <td>1</td>\n",
       "      <td>Cooking for Picasso: A Novel (unabridged) (Una...</td>\n",
       "      <td>Camille Aubray</td>\n",
       "      <td>Fiction, Historical Fiction, Literature</td>\n",
       "      <td>Books on Tape</td>\n",
       "      <td>2016</td>\n",
       "    </tr>\n",
       "    <tr>\n",
       "      <th>9996</th>\n",
       "      <td>Digital</td>\n",
       "      <td>OverDrive</td>\n",
       "      <td>EBOOK</td>\n",
       "      <td>2018</td>\n",
       "      <td>1</td>\n",
       "      <td>1</td>\n",
       "      <td>The Book of Summer: A Novel</td>\n",
       "      <td>Michelle Gable</td>\n",
       "      <td>Fiction, Historical Fiction, Literature</td>\n",
       "      <td>Macmillan Publishers</td>\n",
       "      <td>2017</td>\n",
       "    </tr>\n",
       "    <tr>\n",
       "      <th>9997</th>\n",
       "      <td>Physical</td>\n",
       "      <td>Horizon</td>\n",
       "      <td>BOOK</td>\n",
       "      <td>2018</td>\n",
       "      <td>1</td>\n",
       "      <td>1</td>\n",
       "      <td>Revival / Stephen King.</td>\n",
       "      <td>King, Stephen, 1947-</td>\n",
       "      <td>Drug addicts Fiction, Clergy Fiction, Rock mus...</td>\n",
       "      <td>Thorndike Press,</td>\n",
       "      <td>2014.</td>\n",
       "    </tr>\n",
       "    <tr>\n",
       "      <th>9998</th>\n",
       "      <td>Physical</td>\n",
       "      <td>Horizon</td>\n",
       "      <td>BOOK</td>\n",
       "      <td>2018</td>\n",
       "      <td>1</td>\n",
       "      <td>4</td>\n",
       "      <td>Loula is leaving for Africa / written and illu...</td>\n",
       "      <td>Villeneuve, Anne, 1966-</td>\n",
       "      <td>Imagination Juvenile fiction, Chauffeurs Juven...</td>\n",
       "      <td>Kids Can Press,</td>\n",
       "      <td>[2013]</td>\n",
       "    </tr>\n",
       "    <tr>\n",
       "      <th>9999</th>\n",
       "      <td>Digital</td>\n",
       "      <td>OverDrive</td>\n",
       "      <td>AUDIOBOOK</td>\n",
       "      <td>2018</td>\n",
       "      <td>1</td>\n",
       "      <td>1</td>\n",
       "      <td>The Story About Ping (Unabridged)</td>\n",
       "      <td>Marjorie Flack</td>\n",
       "      <td>Juvenile Fiction</td>\n",
       "      <td>Weston Woods Studios Inc., a subsidiary of Sch...</td>\n",
       "      <td>2012</td>\n",
       "    </tr>\n",
       "  </tbody>\n",
       "</table>\n",
       "<p>10000 rows × 11 columns</p>\n",
       "</div>"
      ],
      "text/plain": [
       "     usageclass checkouttype materialtype  checkoutyear  checkoutmonth  \\\n",
       "0       Digital    OverDrive        EBOOK          2018              1   \n",
       "1       Digital       Hoopla   TELEVISION          2018              1   \n",
       "2      Physical      Horizon    SOUNDDISC          2018              1   \n",
       "3       Digital    OverDrive        EBOOK          2018              1   \n",
       "4       Digital    OverDrive        EBOOK          2018              1   \n",
       "...         ...          ...          ...           ...            ...   \n",
       "9995    Digital    OverDrive    AUDIOBOOK          2018              1   \n",
       "9996    Digital    OverDrive        EBOOK          2018              1   \n",
       "9997   Physical      Horizon         BOOK          2018              1   \n",
       "9998   Physical      Horizon         BOOK          2018              1   \n",
       "9999    Digital    OverDrive    AUDIOBOOK          2018              1   \n",
       "\n",
       "      checkouts                                              title  \\\n",
       "0            22                                 Enemy of the State   \n",
       "1             1     Newspaper Mom / Cucumber in Rio / Donut Raffle   \n",
       "2             1                              Mono / the Mavericks.   \n",
       "3             2                                      Anna Karenina   \n",
       "4             1                        Dragon: Vlad Series, Book 8   \n",
       "...         ...                                                ...   \n",
       "9995          1  Cooking for Picasso: A Novel (unabridged) (Una...   \n",
       "9996          1                        The Book of Summer: A Novel   \n",
       "9997          1                            Revival / Stephen King.   \n",
       "9998          4  Loula is leaving for Africa / written and illu...   \n",
       "9999          1                  The Story About Ping (Unabridged)   \n",
       "\n",
       "                        creator  \\\n",
       "0                   Vince Flynn   \n",
       "1                           NaN   \n",
       "2     Mavericks (Musical group)   \n",
       "3                   Leo Tolstoy   \n",
       "4                  Steven Brust   \n",
       "...                         ...   \n",
       "9995             Camille Aubray   \n",
       "9996             Michelle Gable   \n",
       "9997       King, Stephen, 1947-   \n",
       "9998    Villeneuve, Anne, 1966-   \n",
       "9999             Marjorie Flack   \n",
       "\n",
       "                                               subjects  \\\n",
       "0                         Fiction, Literature, Thriller   \n",
       "1                                            Children's   \n",
       "2                               Country music 2011 2020   \n",
       "3               Classic Literature, Fiction, Literature   \n",
       "4                                      Fantasy, Fiction   \n",
       "...                                                 ...   \n",
       "9995            Fiction, Historical Fiction, Literature   \n",
       "9996            Fiction, Historical Fiction, Literature   \n",
       "9997  Drug addicts Fiction, Clergy Fiction, Rock mus...   \n",
       "9998  Imagination Juvenile fiction, Chauffeurs Juven...   \n",
       "9999                                   Juvenile Fiction   \n",
       "\n",
       "                                              publisher publicationyear  \n",
       "0                                Simon & Schuster, Inc.            2017  \n",
       "1                                             DHX Media             NaN  \n",
       "2                                               Valory,          [2015]  \n",
       "3                             Penguin Group (USA), Inc.            2009  \n",
       "4                                  Macmillan Publishers            2015  \n",
       "...                                                 ...             ...  \n",
       "9995                                      Books on Tape            2016  \n",
       "9996                               Macmillan Publishers            2017  \n",
       "9997                                   Thorndike Press,           2014.  \n",
       "9998                                    Kids Can Press,          [2013]  \n",
       "9999  Weston Woods Studios Inc., a subsidiary of Sch...            2012  \n",
       "\n",
       "[10000 rows x 11 columns]"
      ]
     },
     "execution_count": 4,
     "metadata": {},
     "output_type": "execute_result"
    }
   ],
   "source": [
    "checkouts_df"
   ]
  },
  {
   "cell_type": "markdown",
   "metadata": {},
   "source": [
    "## Analysieren"
   ]
  },
  {
   "cell_type": "code",
   "execution_count": 11,
   "metadata": {},
   "outputs": [
    {
     "name": "stdout",
     "output_type": "stream",
     "text": [
      "checkoutyear     2018.0000\n",
      "checkoutmonth       1.0427\n",
      "checkouts           3.3390\n",
      "dtype: float64\n"
     ]
    }
   ],
   "source": [
    "# Allgemeine Durchschnittswerte\n",
    "mean_df = checkouts_df.mean()\n",
    "print(mean_df)"
   ]
  },
  {
   "cell_type": "code",
   "execution_count": 12,
   "metadata": {
    "scrolled": true
   },
   "outputs": [
    {
     "data": {
      "text/html": [
       "<div>\n",
       "<style scoped>\n",
       "    .dataframe tbody tr th:only-of-type {\n",
       "        vertical-align: middle;\n",
       "    }\n",
       "\n",
       "    .dataframe tbody tr th {\n",
       "        vertical-align: top;\n",
       "    }\n",
       "\n",
       "    .dataframe thead th {\n",
       "        text-align: right;\n",
       "    }\n",
       "</style>\n",
       "<table border=\"1\" class=\"dataframe\">\n",
       "  <thead>\n",
       "    <tr style=\"text-align: right;\">\n",
       "      <th>checkouts</th>\n",
       "      <th>1</th>\n",
       "      <th>2</th>\n",
       "      <th>3</th>\n",
       "      <th>4</th>\n",
       "      <th>5</th>\n",
       "      <th>6</th>\n",
       "      <th>7</th>\n",
       "      <th>8</th>\n",
       "      <th>9</th>\n",
       "      <th>10</th>\n",
       "      <th>...</th>\n",
       "      <th>84</th>\n",
       "      <th>85</th>\n",
       "      <th>89</th>\n",
       "      <th>95</th>\n",
       "      <th>105</th>\n",
       "      <th>106</th>\n",
       "      <th>114</th>\n",
       "      <th>176</th>\n",
       "      <th>495</th>\n",
       "      <th>540</th>\n",
       "    </tr>\n",
       "    <tr>\n",
       "      <th>publicationyear</th>\n",
       "      <th></th>\n",
       "      <th></th>\n",
       "      <th></th>\n",
       "      <th></th>\n",
       "      <th></th>\n",
       "      <th></th>\n",
       "      <th></th>\n",
       "      <th></th>\n",
       "      <th></th>\n",
       "      <th></th>\n",
       "      <th></th>\n",
       "      <th></th>\n",
       "      <th></th>\n",
       "      <th></th>\n",
       "      <th></th>\n",
       "      <th></th>\n",
       "      <th></th>\n",
       "      <th></th>\n",
       "      <th></th>\n",
       "      <th></th>\n",
       "      <th></th>\n",
       "    </tr>\n",
       "  </thead>\n",
       "  <tbody>\n",
       "    <tr>\n",
       "      <th>1888.</th>\n",
       "      <td>1</td>\n",
       "      <td>0</td>\n",
       "      <td>0</td>\n",
       "      <td>0</td>\n",
       "      <td>0</td>\n",
       "      <td>0</td>\n",
       "      <td>0</td>\n",
       "      <td>0</td>\n",
       "      <td>0</td>\n",
       "      <td>0</td>\n",
       "      <td>...</td>\n",
       "      <td>0</td>\n",
       "      <td>0</td>\n",
       "      <td>0</td>\n",
       "      <td>0</td>\n",
       "      <td>0</td>\n",
       "      <td>0</td>\n",
       "      <td>0</td>\n",
       "      <td>0</td>\n",
       "      <td>0</td>\n",
       "      <td>0</td>\n",
       "    </tr>\n",
       "    <tr>\n",
       "      <th>1910.</th>\n",
       "      <td>1</td>\n",
       "      <td>0</td>\n",
       "      <td>0</td>\n",
       "      <td>0</td>\n",
       "      <td>0</td>\n",
       "      <td>0</td>\n",
       "      <td>0</td>\n",
       "      <td>0</td>\n",
       "      <td>0</td>\n",
       "      <td>0</td>\n",
       "      <td>...</td>\n",
       "      <td>0</td>\n",
       "      <td>0</td>\n",
       "      <td>0</td>\n",
       "      <td>0</td>\n",
       "      <td>0</td>\n",
       "      <td>0</td>\n",
       "      <td>0</td>\n",
       "      <td>0</td>\n",
       "      <td>0</td>\n",
       "      <td>0</td>\n",
       "    </tr>\n",
       "    <tr>\n",
       "      <th>1911.</th>\n",
       "      <td>1</td>\n",
       "      <td>0</td>\n",
       "      <td>0</td>\n",
       "      <td>0</td>\n",
       "      <td>0</td>\n",
       "      <td>0</td>\n",
       "      <td>0</td>\n",
       "      <td>0</td>\n",
       "      <td>0</td>\n",
       "      <td>0</td>\n",
       "      <td>...</td>\n",
       "      <td>0</td>\n",
       "      <td>0</td>\n",
       "      <td>0</td>\n",
       "      <td>0</td>\n",
       "      <td>0</td>\n",
       "      <td>0</td>\n",
       "      <td>0</td>\n",
       "      <td>0</td>\n",
       "      <td>0</td>\n",
       "      <td>0</td>\n",
       "    </tr>\n",
       "    <tr>\n",
       "      <th>1921.</th>\n",
       "      <td>1</td>\n",
       "      <td>0</td>\n",
       "      <td>0</td>\n",
       "      <td>0</td>\n",
       "      <td>0</td>\n",
       "      <td>0</td>\n",
       "      <td>0</td>\n",
       "      <td>0</td>\n",
       "      <td>0</td>\n",
       "      <td>0</td>\n",
       "      <td>...</td>\n",
       "      <td>0</td>\n",
       "      <td>0</td>\n",
       "      <td>0</td>\n",
       "      <td>0</td>\n",
       "      <td>0</td>\n",
       "      <td>0</td>\n",
       "      <td>0</td>\n",
       "      <td>0</td>\n",
       "      <td>0</td>\n",
       "      <td>0</td>\n",
       "    </tr>\n",
       "    <tr>\n",
       "      <th>1926.</th>\n",
       "      <td>1</td>\n",
       "      <td>0</td>\n",
       "      <td>0</td>\n",
       "      <td>0</td>\n",
       "      <td>0</td>\n",
       "      <td>0</td>\n",
       "      <td>0</td>\n",
       "      <td>0</td>\n",
       "      <td>0</td>\n",
       "      <td>0</td>\n",
       "      <td>...</td>\n",
       "      <td>0</td>\n",
       "      <td>0</td>\n",
       "      <td>0</td>\n",
       "      <td>0</td>\n",
       "      <td>0</td>\n",
       "      <td>0</td>\n",
       "      <td>0</td>\n",
       "      <td>0</td>\n",
       "      <td>0</td>\n",
       "      <td>0</td>\n",
       "    </tr>\n",
       "    <tr>\n",
       "      <th>...</th>\n",
       "      <td>...</td>\n",
       "      <td>...</td>\n",
       "      <td>...</td>\n",
       "      <td>...</td>\n",
       "      <td>...</td>\n",
       "      <td>...</td>\n",
       "      <td>...</td>\n",
       "      <td>...</td>\n",
       "      <td>...</td>\n",
       "      <td>...</td>\n",
       "      <td>...</td>\n",
       "      <td>...</td>\n",
       "      <td>...</td>\n",
       "      <td>...</td>\n",
       "      <td>...</td>\n",
       "      <td>...</td>\n",
       "      <td>...</td>\n",
       "      <td>...</td>\n",
       "      <td>...</td>\n",
       "      <td>...</td>\n",
       "      <td>...</td>\n",
       "    </tr>\n",
       "    <tr>\n",
       "      <th>©2017</th>\n",
       "      <td>0</td>\n",
       "      <td>0</td>\n",
       "      <td>0</td>\n",
       "      <td>0</td>\n",
       "      <td>0</td>\n",
       "      <td>0</td>\n",
       "      <td>0</td>\n",
       "      <td>0</td>\n",
       "      <td>0</td>\n",
       "      <td>0</td>\n",
       "      <td>...</td>\n",
       "      <td>0</td>\n",
       "      <td>0</td>\n",
       "      <td>0</td>\n",
       "      <td>0</td>\n",
       "      <td>0</td>\n",
       "      <td>0</td>\n",
       "      <td>0</td>\n",
       "      <td>0</td>\n",
       "      <td>0</td>\n",
       "      <td>0</td>\n",
       "    </tr>\n",
       "    <tr>\n",
       "      <th>©2017.</th>\n",
       "      <td>0</td>\n",
       "      <td>0</td>\n",
       "      <td>0</td>\n",
       "      <td>1</td>\n",
       "      <td>2</td>\n",
       "      <td>1</td>\n",
       "      <td>0</td>\n",
       "      <td>0</td>\n",
       "      <td>0</td>\n",
       "      <td>0</td>\n",
       "      <td>...</td>\n",
       "      <td>0</td>\n",
       "      <td>0</td>\n",
       "      <td>0</td>\n",
       "      <td>0</td>\n",
       "      <td>0</td>\n",
       "      <td>0</td>\n",
       "      <td>0</td>\n",
       "      <td>0</td>\n",
       "      <td>0</td>\n",
       "      <td>0</td>\n",
       "    </tr>\n",
       "    <tr>\n",
       "      <th>℗1995.</th>\n",
       "      <td>0</td>\n",
       "      <td>0</td>\n",
       "      <td>0</td>\n",
       "      <td>1</td>\n",
       "      <td>0</td>\n",
       "      <td>0</td>\n",
       "      <td>0</td>\n",
       "      <td>0</td>\n",
       "      <td>0</td>\n",
       "      <td>0</td>\n",
       "      <td>...</td>\n",
       "      <td>0</td>\n",
       "      <td>0</td>\n",
       "      <td>0</td>\n",
       "      <td>0</td>\n",
       "      <td>0</td>\n",
       "      <td>0</td>\n",
       "      <td>0</td>\n",
       "      <td>0</td>\n",
       "      <td>0</td>\n",
       "      <td>0</td>\n",
       "    </tr>\n",
       "    <tr>\n",
       "      <th>℗2009.</th>\n",
       "      <td>0</td>\n",
       "      <td>1</td>\n",
       "      <td>0</td>\n",
       "      <td>0</td>\n",
       "      <td>0</td>\n",
       "      <td>0</td>\n",
       "      <td>0</td>\n",
       "      <td>0</td>\n",
       "      <td>0</td>\n",
       "      <td>0</td>\n",
       "      <td>...</td>\n",
       "      <td>0</td>\n",
       "      <td>0</td>\n",
       "      <td>0</td>\n",
       "      <td>0</td>\n",
       "      <td>0</td>\n",
       "      <td>0</td>\n",
       "      <td>0</td>\n",
       "      <td>0</td>\n",
       "      <td>0</td>\n",
       "      <td>0</td>\n",
       "    </tr>\n",
       "    <tr>\n",
       "      <th>℗2017.</th>\n",
       "      <td>0</td>\n",
       "      <td>0</td>\n",
       "      <td>0</td>\n",
       "      <td>0</td>\n",
       "      <td>1</td>\n",
       "      <td>0</td>\n",
       "      <td>0</td>\n",
       "      <td>1</td>\n",
       "      <td>0</td>\n",
       "      <td>0</td>\n",
       "      <td>...</td>\n",
       "      <td>0</td>\n",
       "      <td>0</td>\n",
       "      <td>0</td>\n",
       "      <td>0</td>\n",
       "      <td>0</td>\n",
       "      <td>0</td>\n",
       "      <td>0</td>\n",
       "      <td>0</td>\n",
       "      <td>0</td>\n",
       "      <td>0</td>\n",
       "    </tr>\n",
       "  </tbody>\n",
       "</table>\n",
       "<p>264 rows × 75 columns</p>\n",
       "</div>"
      ],
      "text/plain": [
       "checkouts        1    2    3    4    5    6    7    8    9    10   ...  84   \\\n",
       "publicationyear                                                    ...        \n",
       "1888.              1    0    0    0    0    0    0    0    0    0  ...    0   \n",
       "1910.              1    0    0    0    0    0    0    0    0    0  ...    0   \n",
       "1911.              1    0    0    0    0    0    0    0    0    0  ...    0   \n",
       "1921.              1    0    0    0    0    0    0    0    0    0  ...    0   \n",
       "1926.              1    0    0    0    0    0    0    0    0    0  ...    0   \n",
       "...              ...  ...  ...  ...  ...  ...  ...  ...  ...  ...  ...  ...   \n",
       "©2017              0    0    0    0    0    0    0    0    0    0  ...    0   \n",
       "©2017.             0    0    0    1    2    1    0    0    0    0  ...    0   \n",
       "℗1995.             0    0    0    1    0    0    0    0    0    0  ...    0   \n",
       "℗2009.             0    1    0    0    0    0    0    0    0    0  ...    0   \n",
       "℗2017.             0    0    0    0    1    0    0    1    0    0  ...    0   \n",
       "\n",
       "checkouts        85   89   95   105  106  114  176  495  540  \n",
       "publicationyear                                               \n",
       "1888.              0    0    0    0    0    0    0    0    0  \n",
       "1910.              0    0    0    0    0    0    0    0    0  \n",
       "1911.              0    0    0    0    0    0    0    0    0  \n",
       "1921.              0    0    0    0    0    0    0    0    0  \n",
       "1926.              0    0    0    0    0    0    0    0    0  \n",
       "...              ...  ...  ...  ...  ...  ...  ...  ...  ...  \n",
       "©2017              0    0    0    0    0    0    0    0    0  \n",
       "©2017.             0    0    0    0    0    0    0    0    0  \n",
       "℗1995.             0    0    0    0    0    0    0    0    0  \n",
       "℗2009.             0    0    0    0    0    0    0    0    0  \n",
       "℗2017.             0    0    0    0    0    0    0    0    0  \n",
       "\n",
       "[264 rows x 75 columns]"
      ]
     },
     "execution_count": 12,
     "metadata": {},
     "output_type": "execute_result"
    }
   ],
   "source": [
    "# Kreuztabelle\n",
    "pd.crosstab(index=checkouts_df['publicationyear'], columns=checkouts_df['checkouts'])"
   ]
  },
  {
   "cell_type": "code",
   "execution_count": 17,
   "metadata": {},
   "outputs": [
    {
     "data": {
      "text/plain": [
       "BOOK                    4284\n",
       "EBOOK                   2088\n",
       "AUDIOBOOK                861\n",
       "SOUNDDISC                839\n",
       "VIDEODISC                806\n",
       "SONG                     693\n",
       "MUSIC                    134\n",
       "MOVIE                     95\n",
       "TELEVISION                81\n",
       "COMIC                     60\n",
       "MAGAZINE                  10\n",
       "SOUNDDISC, VIDEODISC      10\n",
       "SOUNDREC                   8\n",
       "REGPRINT                   7\n",
       "VIDEO                      5\n",
       "CR                         4\n",
       "ER                         3\n",
       "MAP                        3\n",
       "ER, SOUNDDISC              3\n",
       "ATLAS                      2\n",
       "VIDEOCASS, VIDEODISC       1\n",
       "LARGEPRINT                 1\n",
       "SOUNDCASS                  1\n",
       "ER, VIDEODISC              1\n",
       "Name: materialtype, dtype: int64"
      ]
     },
     "execution_count": 17,
     "metadata": {},
     "output_type": "execute_result"
    }
   ],
   "source": [
    "checkouts_df[\"materialtype\"].value_counts()"
   ]
  },
  {
   "cell_type": "code",
   "execution_count": 19,
   "metadata": {},
   "outputs": [
    {
     "data": {
      "text/plain": [
       "BOOK         4284\n",
       "EBOOK        2088\n",
       "AUDIOBOOK     861\n",
       "SOUNDDISC     839\n",
       "VIDEODISC     806\n",
       "Name: materialtype, dtype: int64"
      ]
     },
     "execution_count": 19,
     "metadata": {},
     "output_type": "execute_result"
    }
   ],
   "source": [
    "# Welche Materialien werden am häufigsten ausgeliehen?\n",
    "top5 = checkouts_df.materialtype.value_counts().head(5)\n",
    "top5"
   ]
  },
  {
   "cell_type": "code",
   "execution_count": 20,
   "metadata": {},
   "outputs": [],
   "source": [
    "%matplotlib inline"
   ]
  },
  {
   "cell_type": "code",
   "execution_count": 21,
   "metadata": {},
   "outputs": [
    {
     "data": {
      "text/plain": [
       "<AxesSubplot:>"
      ]
     },
     "execution_count": 21,
     "metadata": {},
     "output_type": "execute_result"
    },
    {
     "data": {
      "image/png": "[encoded data removed]",
      "text/plain": [
       "<Figure size 432x288 with 1 Axes>"
      ]
     },
     "metadata": {
      "needs_background": "light"
     },
     "output_type": "display_data"
    }
   ],
   "source": [
    "top5.plot()"
   ]
  },
  {
   "cell_type": "code",
   "execution_count": 22,
   "metadata": {},
   "outputs": [
    {
     "data": {
      "text/plain": [
       "<AxesSubplot:>"
      ]
     },
     "execution_count": 22,
     "metadata": {},
     "output_type": "execute_result"
    },
    {
     "data": {
      "image/png": "[encoded data removed]",
      "text/plain": [
       "<Figure size 432x288 with 1 Axes>"
      ]
     },
     "metadata": {
      "needs_background": "light"
     },
     "output_type": "display_data"
    }
   ],
   "source": [
    "top5.plot.bar()"
   ]
  },
  {
   "cell_type": "code",
   "execution_count": 23,
   "metadata": {},
   "outputs": [
    {
     "data": {
      "text/plain": [
       "<AxesSubplot:ylabel='materialtype'>"
      ]
     },
     "execution_count": 23,
     "metadata": {},
     "output_type": "execute_result"
    },
    {
     "data": {
      "image/png": "[encoded data removed]",
      "text/plain": [
       "<Figure size 432x288 with 1 Axes>"
      ]
     },
     "metadata": {},
     "output_type": "display_data"
    }
   ],
   "source": [
    "top5.plot.pie()"
   ]
  },
  {
   "cell_type": "code",
   "execution_count": 25,
   "metadata": {},
   "outputs": [
    {
     "data": {
      "text/plain": [
       "BOOK                    4284\n",
       "EBOOK                   2088\n",
       "AUDIOBOOK                861\n",
       "SOUNDDISC                839\n",
       "VIDEODISC                806\n",
       "SONG                     693\n",
       "MUSIC                    134\n",
       "MOVIE                     95\n",
       "TELEVISION                81\n",
       "COMIC                     60\n",
       "MAGAZINE                  10\n",
       "SOUNDDISC, VIDEODISC      10\n",
       "SOUNDREC                   8\n",
       "REGPRINT                   7\n",
       "VIDEO                      5\n",
       "CR                         4\n",
       "ER                         3\n",
       "MAP                        3\n",
       "ER, SOUNDDISC              3\n",
       "ATLAS                      2\n",
       "VIDEOCASS, VIDEODISC       1\n",
       "LARGEPRINT                 1\n",
       "SOUNDCASS                  1\n",
       "ER, VIDEODISC              1\n",
       "Name: materialtype, dtype: int64"
      ]
     },
     "execution_count": 25,
     "metadata": {},
     "output_type": "execute_result"
    }
   ],
   "source": [
    "# Verschie bt sich das Bild, wenn man alle Materialtypen berücksichtigt?\n",
    "allmaterial = checkouts_df.materialtype.value_counts()\n",
    "allmaterial"
   ]
  },
  {
   "cell_type": "code",
   "execution_count": 26,
   "metadata": {},
   "outputs": [
    {
     "data": {
      "text/plain": [
       "<AxesSubplot:ylabel='materialtype'>"
      ]
     },
     "execution_count": 26,
     "metadata": {},
     "output_type": "execute_result"
    },
    {
     "data": {
      "image/png": "[encoded data removed]",
      "text/plain": [
       "<Figure size 432x288 with 1 Axes>"
      ]
     },
     "metadata": {},
     "output_type": "display_data"
    }
   ],
   "source": [
    "allmaterial.plot.pie()"
   ]
  },
  {
   "cell_type": "code",
   "execution_count": 27,
   "metadata": {},
   "outputs": [
    {
     "data": {
      "text/plain": [
       "ATLAS                   2\n",
       "VIDEOCASS, VIDEODISC    1\n",
       "LARGEPRINT              1\n",
       "SOUNDCASS               1\n",
       "ER, VIDEODISC           1\n",
       "Name: materialtype, dtype: int64"
      ]
     },
     "execution_count": 27,
     "metadata": {},
     "output_type": "execute_result"
    }
   ],
   "source": [
    "# Welche Materialien werden am seltensten ausgeliehen?\n",
    "loser5 = checkouts_df.materialtype.value_counts().tail(5)\n",
    "loser5"
   ]
  },
  {
   "cell_type": "code",
   "execution_count": 30,
   "metadata": {},
   "outputs": [
    {
     "ename": "KeyError",
     "evalue": "'materialtyp'",
     "output_type": "error",
     "traceback": [
      "\u001b[0;31m---------------------------------------------------------------------------\u001b[0m",
      "\u001b[0;31mKeyError\u001b[0m                                  Traceback (most recent call last)",
      "\u001b[0;32m~/anaconda3/lib/python3.8/site-packages/pandas/core/indexes/base.py\u001b[0m in \u001b[0;36mget_loc\u001b[0;34m(self, key, method, tolerance)\u001b[0m\n\u001b[1;32m   2894\u001b[0m             \u001b[0;32mtry\u001b[0m\u001b[0;34m:\u001b[0m\u001b[0;34m\u001b[0m\u001b[0;34m\u001b[0m\u001b[0m\n\u001b[0;32m-> 2895\u001b[0;31m                 \u001b[0;32mreturn\u001b[0m \u001b[0mself\u001b[0m\u001b[0;34m.\u001b[0m\u001b[0m_engine\u001b[0m\u001b[0;34m.\u001b[0m\u001b[0mget_loc\u001b[0m\u001b[0;34m(\u001b[0m\u001b[0mcasted_key\u001b[0m\u001b[0;34m)\u001b[0m\u001b[0;34m\u001b[0m\u001b[0;34m\u001b[0m\u001b[0m\n\u001b[0m\u001b[1;32m   2896\u001b[0m             \u001b[0;32mexcept\u001b[0m \u001b[0mKeyError\u001b[0m \u001b[0;32mas\u001b[0m \u001b[0merr\u001b[0m\u001b[0;34m:\u001b[0m\u001b[0;34m\u001b[0m\u001b[0;34m\u001b[0m\u001b[0m\n",
      "\u001b[0;32mpandas/_libs/index.pyx\u001b[0m in \u001b[0;36mpandas._libs.index.IndexEngine.get_loc\u001b[0;34m()\u001b[0m\n",
      "\u001b[0;32mpandas/_libs/index.pyx\u001b[0m in \u001b[0;36mpandas._libs.index.IndexEngine.get_loc\u001b[0;34m()\u001b[0m\n",
      "\u001b[0;32mpandas/_libs/hashtable_class_helper.pxi\u001b[0m in \u001b[0;36mpandas._libs.hashtable.PyObjectHashTable.get_item\u001b[0;34m()\u001b[0m\n",
      "\u001b[0;32mpandas/_libs/hashtable_class_helper.pxi\u001b[0m in \u001b[0;36mpandas._libs.hashtable.PyObjectHashTable.get_item\u001b[0;34m()\u001b[0m\n",
      "\u001b[0;31mKeyError\u001b[0m: 'materialtyp'",
      "\nThe above exception was the direct cause of the following exception:\n",
      "\u001b[0;31mKeyError\u001b[0m                                  Traceback (most recent call last)",
      "\u001b[0;32m<ipython-input-30-35b372133546>\u001b[0m in \u001b[0;36m<module>\u001b[0;34m\u001b[0m\n\u001b[0;32m----> 1\u001b[0;31m \u001b[0mpd\u001b[0m\u001b[0;34m.\u001b[0m\u001b[0mcrosstab\u001b[0m\u001b[0;34m(\u001b[0m\u001b[0mindex\u001b[0m\u001b[0;34m=\u001b[0m\u001b[0mcheckouts_df\u001b[0m\u001b[0;34m[\u001b[0m\u001b[0;34m'materialtyp'\u001b[0m\u001b[0;34m]\u001b[0m\u001b[0;34m,\u001b[0m \u001b[0mcolumns\u001b[0m\u001b[0;34m=\u001b[0m\u001b[0mcheckouts_df\u001b[0m\u001b[0;34m[\u001b[0m\u001b[0;34m'usageclass'\u001b[0m\u001b[0;34m]\u001b[0m\u001b[0;34m)\u001b[0m\u001b[0;34m\u001b[0m\u001b[0;34m\u001b[0m\u001b[0m\n\u001b[0m",
      "\u001b[0;32m~/anaconda3/lib/python3.8/site-packages/pandas/core/frame.py\u001b[0m in \u001b[0;36m__getitem__\u001b[0;34m(self, key)\u001b[0m\n\u001b[1;32m   2900\u001b[0m             \u001b[0;32mif\u001b[0m \u001b[0mself\u001b[0m\u001b[0;34m.\u001b[0m\u001b[0mcolumns\u001b[0m\u001b[0;34m.\u001b[0m\u001b[0mnlevels\u001b[0m \u001b[0;34m>\u001b[0m \u001b[0;36m1\u001b[0m\u001b[0;34m:\u001b[0m\u001b[0;34m\u001b[0m\u001b[0;34m\u001b[0m\u001b[0m\n\u001b[1;32m   2901\u001b[0m                 \u001b[0;32mreturn\u001b[0m \u001b[0mself\u001b[0m\u001b[0;34m.\u001b[0m\u001b[0m_getitem_multilevel\u001b[0m\u001b[0;34m(\u001b[0m\u001b[0mkey\u001b[0m\u001b[0;34m)\u001b[0m\u001b[0;34m\u001b[0m\u001b[0;34m\u001b[0m\u001b[0m\n\u001b[0;32m-> 2902\u001b[0;31m             \u001b[0mindexer\u001b[0m \u001b[0;34m=\u001b[0m \u001b[0mself\u001b[0m\u001b[0;34m.\u001b[0m\u001b[0mcolumns\u001b[0m\u001b[0;34m.\u001b[0m\u001b[0mget_loc\u001b[0m\u001b[0;34m(\u001b[0m\u001b[0mkey\u001b[0m\u001b[0;34m)\u001b[0m\u001b[0;34m\u001b[0m\u001b[0;34m\u001b[0m\u001b[0m\n\u001b[0m\u001b[1;32m   2903\u001b[0m             \u001b[0;32mif\u001b[0m \u001b[0mis_integer\u001b[0m\u001b[0;34m(\u001b[0m\u001b[0mindexer\u001b[0m\u001b[0;34m)\u001b[0m\u001b[0;34m:\u001b[0m\u001b[0;34m\u001b[0m\u001b[0;34m\u001b[0m\u001b[0m\n\u001b[1;32m   2904\u001b[0m                 \u001b[0mindexer\u001b[0m \u001b[0;34m=\u001b[0m \u001b[0;34m[\u001b[0m\u001b[0mindexer\u001b[0m\u001b[0;34m]\u001b[0m\u001b[0;34m\u001b[0m\u001b[0;34m\u001b[0m\u001b[0m\n",
      "\u001b[0;32m~/anaconda3/lib/python3.8/site-packages/pandas/core/indexes/base.py\u001b[0m in \u001b[0;36mget_loc\u001b[0;34m(self, key, method, tolerance)\u001b[0m\n\u001b[1;32m   2895\u001b[0m                 \u001b[0;32mreturn\u001b[0m \u001b[0mself\u001b[0m\u001b[0;34m.\u001b[0m\u001b[0m_engine\u001b[0m\u001b[0;34m.\u001b[0m\u001b[0mget_loc\u001b[0m\u001b[0;34m(\u001b[0m\u001b[0mcasted_key\u001b[0m\u001b[0;34m)\u001b[0m\u001b[0;34m\u001b[0m\u001b[0;34m\u001b[0m\u001b[0m\n\u001b[1;32m   2896\u001b[0m             \u001b[0;32mexcept\u001b[0m \u001b[0mKeyError\u001b[0m \u001b[0;32mas\u001b[0m \u001b[0merr\u001b[0m\u001b[0;34m:\u001b[0m\u001b[0;34m\u001b[0m\u001b[0;34m\u001b[0m\u001b[0m\n\u001b[0;32m-> 2897\u001b[0;31m                 \u001b[0;32mraise\u001b[0m \u001b[0mKeyError\u001b[0m\u001b[0;34m(\u001b[0m\u001b[0mkey\u001b[0m\u001b[0;34m)\u001b[0m \u001b[0;32mfrom\u001b[0m \u001b[0merr\u001b[0m\u001b[0;34m\u001b[0m\u001b[0;34m\u001b[0m\u001b[0m\n\u001b[0m\u001b[1;32m   2898\u001b[0m \u001b[0;34m\u001b[0m\u001b[0m\n\u001b[1;32m   2899\u001b[0m         \u001b[0;32mif\u001b[0m \u001b[0mtolerance\u001b[0m \u001b[0;32mis\u001b[0m \u001b[0;32mnot\u001b[0m \u001b[0;32mNone\u001b[0m\u001b[0;34m:\u001b[0m\u001b[0;34m\u001b[0m\u001b[0;34m\u001b[0m\u001b[0m\n",
      "\u001b[0;31mKeyError\u001b[0m: 'materialtyp'"
     ]
    }
   ],
   "source": [
    "pd.crosstab(index=checkouts_df['materialtyp'], columns=checkouts_df['usageclass'])"
   ]
  },
  {
   "cell_type": "code",
   "execution_count": null,
   "metadata": {},
   "outputs": [],
   "source": []
  }
 ],
 "metadata": {
  "kernelspec": {
   "display_name": "Python 3",
   "language": "python",
   "name": "python3"
  },
  "language_info": {
   "codemirror_mode": {
    "name": "ipython",
    "version": 3
   },
   "file_extension": ".py",
   "mimetype": "text/x-python",
   "name": "python",
   "nbconvert_exporter": "python",
   "pygments_lexer": "ipython3",
   "version": "3.8.5"
  }
 },
 "nbformat": 4,
 "nbformat_minor": 4
}
