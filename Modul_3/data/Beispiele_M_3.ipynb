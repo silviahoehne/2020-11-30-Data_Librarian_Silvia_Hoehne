{
 "cells": [
  {
   "cell_type": "code",
   "execution_count": 3,
   "metadata": {},
   "outputs": [],
   "source": [
    "import numpy as np"
   ]
  },
  {
   "cell_type": "code",
   "execution_count": 4,
   "metadata": {},
   "outputs": [],
   "source": [
    "# create 100 randomly distributed numbers\n",
    "X = np.random.normal(size=100)"
   ]
  },
  {
   "cell_type": "code",
   "execution_count": 5,
   "metadata": {},
   "outputs": [
    {
     "data": {
      "text/plain": [
       "array([[ 0.63710118, -0.25779943, -1.15283438,  1.08652477,  0.84452507],\n",
       "       [-1.11061564, -0.50260193, -0.85961095,  2.25423695,  1.14245084],\n",
       "       [-0.41705945, -0.97683593, -0.0785968 , -0.3006197 , -0.58462356],\n",
       "       [-0.79649617,  0.27301857,  1.20536811, -0.53306825,  2.29977614],\n",
       "       [ 0.03889187,  0.1589368 ,  0.11910574, -1.34244767,  0.42975985],\n",
       "       [ 0.43365796,  1.06226435, -1.72187437, -0.56222732, -0.3328333 ],\n",
       "       [ 1.30918251, -1.16718345,  1.68239117, -0.23712268, -0.4917997 ],\n",
       "       [ 1.50280528, -1.42134963,  0.24582443,  1.84295369,  0.66514285],\n",
       "       [ 0.05243959, -0.34532065, -2.4262719 ,  1.89352489, -0.28617657],\n",
       "       [ 0.91826635,  0.12166158,  0.70001817,  0.58442966,  2.50100854],\n",
       "       [ 1.10092928, -1.6828319 ,  0.70497726,  0.74419722, -0.21562946],\n",
       "       [ 0.27425445, -1.32783604,  0.3049138 , -0.42110614, -1.12402309],\n",
       "       [-0.72149324,  0.37926133, -1.1210767 , -0.20856153,  0.50044694],\n",
       "       [ 0.63362345, -0.0188379 ,  0.09770567,  1.10648167, -1.59720158],\n",
       "       [-0.58769396, -1.25752348,  0.72436903,  1.45417697, -1.01132596],\n",
       "       [-0.7611287 , -0.11454308, -0.4080294 ,  0.58706188, -0.13702074],\n",
       "       [-0.25334398,  0.59503603, -2.25293517,  0.14147642, -1.05323944],\n",
       "       [ 2.3001685 ,  2.03794213,  1.3739453 , -0.68849083, -0.1634007 ],\n",
       "       [ 1.61385263,  0.44943331,  0.57280914, -0.24861126,  0.14776183],\n",
       "       [-0.71183385,  0.03770587, -0.90144918, -2.57371453,  0.56536763]])"
      ]
     },
     "execution_count": 5,
     "metadata": {},
     "output_type": "execute_result"
    }
   ],
   "source": [
    "# transform X into a 2-dimensional array of size 20x5\n",
    "X.reshape((20, 5))"
   ]
  },
  {
   "cell_type": "code",
   "execution_count": null,
   "metadata": {},
   "outputs": [],
   "source": []
  },
  {
   "cell_type": "code",
   "execution_count": 6,
   "metadata": {},
   "outputs": [
    {
     "data": {
      "text/plain": [
       "111.9128236131231"
      ]
     },
     "execution_count": 6,
     "metadata": {},
     "output_type": "execute_result"
    }
   ],
   "source": [
    "# calculate the matrix dot product: X*X', where X' is the transpose of X\n",
    "X.dot(X.T)"
   ]
  },
  {
   "cell_type": "code",
   "execution_count": null,
   "metadata": {},
   "outputs": [],
   "source": []
  }
 ],
 "metadata": {
  "kernelspec": {
   "display_name": "Python 3",
   "language": "python",
   "name": "python3"
  },
  "language_info": {
   "codemirror_mode": {
    "name": "ipython",
    "version": 3
   },
   "file_extension": ".py",
   "mimetype": "text/x-python",
   "name": "python",
   "nbconvert_exporter": "python",
   "pygments_lexer": "ipython3",
   "version": "3.8.5"
  }
 },
 "nbformat": 4,
 "nbformat_minor": 4
}
